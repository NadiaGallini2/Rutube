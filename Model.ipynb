import pandas as pd
import numpy as np
from random import shuffle
from gensim.models import Word2Vec
from tensorflow.keras.models import Model
from tensorflow.keras.layers import Input, Embedding, Dense, LSTM
from tensorflow.keras.optimizers import Adam

# Загрузка данных
logs = pd.read_parquet('путь к path_to_logs.parquet')
video_stat = pd.read_parquet('путь к path_to_video_stat.parquet')

# Предобработка данных
def preprocess_data(logs, video_stat):
    logs['watchtime'] = logs['watchtime'].clip(lower=0)
    interaction_matrix = logs.pivot_table(index='user_id', columns='video_id', values='watchtime', fill_value=0)
    return interaction_matrix

interaction_matrix = preprocess_data(logs, video_stat)

# Модель GSASRec
class GSASRec(Model):
    def _init_(self, num_users, num_items, embedding_size):
        super(GSASRec, self)._init_()
        self.user_embedding = Embedding(num_users, embedding_size)
        self.item_embedding = Embedding(num_items, embedding_size)
        self.dense_layer = Dense(128, activation='relu')
        self.output_layer = Dense(1, activation='sigmoid')

    def call(self, inputs):
        user_id, item_id = inputs
        user_embedding = self.user_embedding(user_id)
        item_embedding = self.item_embedding(item_id)
        x = user_embedding * item_embedding
        x = self.dense_layer(x)
        return self.output_layer(x)

# Обучение GSASRec
def train_gsasrec(interaction_matrix):
    num_users, num_items = interaction_matrix.shape
    model = GSASRec(num_users, num_items, embedding_size=50)
    model.compile(optimizer=Adam(), loss='binary_crossentropy')

    user_ids, item_ids, labels = [], [], []
    for user_id, row in interaction_matrix.iterrows():
        for video_id, watchtime in row.iteritems():
            user_ids.append(user_id)
            item_ids.append(video_id)
            labels.append(1 if watchtime > 0 else 0)

    user_ids = np.array(user_ids)
    item_ids = np.array(item_ids)
    labels = np.array(labels)
    model.fit([user_ids, item_ids], labels, epochs=10, batch_size=32)
    return model

gsasrec_model = train_gsasrec(interaction_matrix)

# Модель Bert4Rec
class Bert4Rec(Model):
    def _init_(self, num_users, num_items, embedding_size):
        super(Bert4Rec, self)._init_()
        self.user_embedding = Embedding(num_users, embedding_size)
        self.item_embedding = Embedding(num_items, embedding_size)
        self.lstm_layer = LSTM(64, return_sequences=True)
        self.dense_layer = Dense(128, activation='relu')
        self.output_layer = Dense(1, activation='sigmoid')

    def call(self, inputs):
        user_id, item_id = inputs
        user_embedding = self.user_embedding(user_id)
        item_embedding = self.item_embedding(item_id)
        x = user_embedding * item_embedding
        x = self.lstm_layer(x)
        x = self.dense_layer(x)
        return self.output_layer(x)

# Обучение Bert4Rec
def train_bert4rec(interaction_matrix):
    num_users, num_items = interaction_matrix.shape
    model = Bert4Rec(num_users, num_items, embedding_size=50)
    model.compile(optimizer=Adam(), loss='binary_crossentropy')

    user_ids, item_ids, labels = [], [], []
    for user_id, row in interaction_matrix.iterrows():
        for video_id, watchtime in row.iteritems():
            user_ids.append(user_id)
            item_ids.append(video_id)
            labels.append(1 if watchtime > 0 else 0)

    user_ids = np.array(user_ids)
    item_ids = np.array(item_ids)
    labels = np.array(labels)
    model.fit([user_ids, item_ids], labels, epochs=10, batch_size=32)
    return model

bert4rec_model = train_bert4rec(interaction_matrix)

# Word2Vec для рекомендаций
def train_word2vec_model(logs):
    logs['video_id'] = logs['video_id'].astype(str)
    user_sessions = logs.groupby('user_id')['video_id'].apply(list)
    model = Word2Vec(user_sessions, vector_size=50, window=5, min_count=1, sg=1)
    return model

word2vec_model = train_word2vec_model(logs)

# Рекомендации Word2Vec
def recommend_videos_word2vec(video_id, word2vec_model, top_n=10):
    try:
        recommendations = word2vec_model.wv.most_similar(str(video_id), topn=top_n)
        recommended_videos = [int(video[0]) for video in recommendations]
    except KeyError:
        recommended_videos = []
    return recommended_videos

# Transformer-XL и XLNet для улучшения ансамбля
def apply_transformers(user_id, recommendations):
    return recommendations

# Рекомендации GSASRec
def recommend_videos_gsasrec(user_id, model, interaction_matrix, top_n=10):
    if user_id not in interaction_matrix.index:
        return []

    user_index = interaction_matrix.index.get_loc(user_id)
    item_indices = np.arange(interaction_matrix.shape[1])
    predictions = model.predict([np.full_like(item_indices, user_index), item_indices])
    recommended_indices = predictions.flatten().argsort()[-top_n*2:][::-1]
    recommended_videos = interaction_matrix.columns[recommended_indices].tolist()

    watched_videos = interaction_matrix.loc[user_id][interaction_matrix.loc[user_id] > 0].index.tolist()
    recommended_videos = [video for video in recommended_videos if video not in watched_videos]
    return recommended_videos[:top_n]

# Ансамбль Bert4Rec и GSASRec
def recommend_ensemble(user_id, gsasrec_model, bert4rec_model, interaction_matrix, top_n=10):
    gsasrec_recommendations = recommend_videos_gsasrec(user_id, gsasrec_model, interaction_matrix, top_n=top_n)
    bert4rec_recommendations = recommend_videos_gsasrec(user_id, bert4rec_model, interaction_matrix, top_n=top_n)

    ensemble_recommendations = list(set(gsasrec_recommendations) & set(bert4rec_recommendations))

    if len(ensemble_recommendations) < top_n:
        combined_recommendations = list(set(gsasrec_recommendations + bert4rec_recommendations))
        shuffle(combined_recommendations)

        final_recommendations = []
        categories_count = {}

        for video in combined_recommendations:
            category = video_stat[video_stat['video_id'] == video]['category'].values[0]
            if categories_count.get(category, 0) < 2:
                final_recommendations.append(video)
                categories_count[category] = categories_count.get(category, 0) + 1
            if len(final_recommendations) >= top_n:
                break
    else:
        final_recommendations = ensemble_recommendations[:top_n]

    final_recommendations = apply_transformers(user_id, final_recommendations)
    shuffle(final_recommendations)
    return final_recommendations

# Основная функция рекомендаций
def recommend_for_user(user_id, interaction_matrix, bert4rec_model, gsasrec_model, w2v_model, transformer_xlnet_model, video_stat, top_n=10):
    if user_id not in interaction_matrix.index:
        popular_videos = video_stat.sort_values(by='v_total_comments', ascending=False)['video_id'].head(top_n)
        return popular_videos.tolist()

    gsasrec_recommendations = recommend_videos_gsasrec(user_id, gsasrec_model, interaction_matrix, top_n=top_n)
    bert4rec_recommendations = recommend_videos_gsasrec(user_id, bert4rec_model, interaction_matrix, top_n=top_n)

    ensemble_recommendations = improve_with_transformer_xlnet(bert4rec_recommendations, gsasrec_recommendations, transformer_xlnet_model, interaction_matrix, user_id, top_n=top_n)

    if len(ensemble_recommendations) < top_n:
        w2v_recommendations = recommend_videos_word2vec(user_id, w2v_model, interaction_matrix, top_n=top_n-len(ensemble_recommendations))
        w2v_recommendations = [vid for vid in w2v_recommendations if vid not in ensemble_recommendations]
        ensemble_recommendations.extend(w2v_recommendations)

    final_recommendations = ensemble_recommendations[:top_n]
    np.random.shuffle(final_recommendations)
    final_recommendations = limit_videos_per_category(final_recommendations, video_stat)

    return final_recommendations

def limit_videos_per_category(recommendations, video_stat, max_per_category=2):
    video_categories = video_stat.set_index('video_id')['category_id']
    category_count = {}
    filtered_recommendations = []

    for video_id in recommendations:
        category_id = video_categories.get(video_id)
        if category_id is None:
            continue

        # Проверяем, не превышено ли количество видео для данной категории
        if category_count.get(category_id, 0) < max_per_category:
            filtered_recommendations.append(video_id)
            category_count[category_id] = category_count.get(category_id, 0) + 1

    return filtered_recommendations

# Пример использования для конкретного пользователя
user_id = 'user_1'  # Подставьте реальный user_id

# Получение рекомендаций с учётом всех моделей
recommendations = recommend_for_user(
    user_id=user_id,
    interaction_matrix=interaction_matrix,
    bert4rec_model=bert4rec_model,
    gsasrec_model=gsasrec_model,
    w2v_model=word2vec_model,
    transformer_xlnet_model=transformer_xlnet_model,
    video_stat=video_stat
)

# Вывод финальных рекомендаций
print("Финальные рекомендации:", recommendations)
